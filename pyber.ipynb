{
 "cells": [
  {
   "cell_type": "code",
   "execution_count": null,
   "metadata": {},
   "outputs": [],
   "source": [
    "%matplotlib inline\n",
    "\n",
    "# Dependencies and Setup\n",
    "import matplotlib.pyplot as plt\n",
    "import pandas as pd\n",
    "import numpy as np\n",
    "import os\n",
    "\n",
    "# File to Load (Remember to change these)\n",
    "city_data_to_load = os.path.join(\"data\",\"city_data.csv\")\n",
    "ride_data_to_load = os.path.join(\"data\",\"ride_data.csv\")\n",
    "\n",
    "# Read the City and Ride Data\n",
    "city_data = pd.read_csv(city_data_to_load)\n",
    "ride_data = pd.read_csv(ride_data_to_load)\n",
    "\n",
    "# Combine the data into a single dataset\n",
    "combined_ride_data = pd.merge(ride_data, city_data, on=\"city\")\n",
    "\n",
    "\n",
    "# Display the data table for preview\n",
    "combined_ride_data.head()"
   ]
  },
  {
   "cell_type": "markdown",
   "metadata": {},
   "source": [
    "## Bubble Plot of Ride Sharing Data"
   ]
  },
  {
   "cell_type": "code",
   "execution_count": null,
   "metadata": {},
   "outputs": [],
   "source": [
    "# Obtain the x and y coordinates for each of the three city types\n",
    "grouped_ride_data = combined_ride_data.groupby(['city'])\n",
    "ride_count = grouped_ride_data [\"ride_id\"].count()\n",
    "avg_fare = grouped_ride_data [\"fare\"].mean()\n",
    "grouped_type = grouped_ride_data ['type'].first()\n",
    "driver_count = grouped_ride_data ['driver_count'].first()\n",
    "ride_count_df = pd.DataFrame(ride_count)\n",
    "ride_count_df [\"Average Fare ($)\"] = avg_fare\n",
    "ride_count_df [\"Type\"] = grouped_type\n",
    "ride_count_df [\"Driver Count\"] = driver_count\n",
    "ride_count_df = ride_count_df.rename(columns={'ride_id':'Total Number of Rides (Per City)'})\n",
    "rural_ride_count = ride_count_df.loc[ride_count_df[\"Type\"] == \"Rural\"]\n",
    "suburban_ride_count = ride_count_df.loc[ride_count_df[\"Type\"] == \"Suburban\"]\n",
    "urban_ride_count = ride_count_df.loc[ride_count_df[\"Type\"] == \"Urban\"]\n",
    "\n",
    "# Build the scatter plots for each city types\n",
    "plt.scatter(rural_ride_count ['Total Number of Rides (Per City)'], rural_ride_count ['Average Fare ($)'], marker=\"o\", facecolors=\"gold\", edgecolors=\"black\", s= 10 * rural_ride_count ['Driver Count'], alpha=0.75, label=\"Rural\", linewidth = 1)\n",
    "plt.scatter(suburban_ride_count ['Total Number of Rides (Per City)'], suburban_ride_count ['Average Fare ($)'], marker=\"o\", facecolors=\"skyblue\", edgecolors=\"red\", s= 10 *suburban_ride_count ['Driver Count'], alpha=0.85, label=\"Suburban\", linewidth = 0.75)\n",
    "plt.scatter(urban_ride_count ['Total Number of Rides (Per City)'], urban_ride_count ['Average Fare ($)'], marker=\"o\", facecolors=\"coral\", edgecolors=\"green\", s= 10 * urban_ride_count ['Driver Count'], alpha=1 , label=\"Urban\", linewidth = 1.25)\n",
    "\n",
    "\n",
    "# Incorporate the other graph properties\n",
    "plt.grid()\n",
    "plt.title(\"Pyber Ride Sharing Data (2016)\")\n",
    "plt.xlabel(\"Total Number of Rides (Per City)\")\n",
    "plt.ylabel(\"Average Fare ($)\")\n",
    "\n",
    "# Create a legend\n",
    "lgnd = plt.legend(loc=\"upper right\", scatterpoints=1, fontsize=10, title = 'City Types')\n",
    "lgnd.legendHandles[0]._sizes = [30]\n",
    "lgnd.legendHandles[1]._sizes = [30]\n",
    "lgnd.legendHandles[2]._sizes = [30]\n",
    "# Incorporate a text label regarding circle size\n",
    "\n",
    "plt.annotate('Note:', xy=(1.05, 0.60), xytext=(0, 10), xycoords=('axes fraction', 'figure fraction'), textcoords='offset points', size=10, ha='left', va='bottom')\n",
    "plt.annotate('Circle size correlates with driver count per city', xy=(1.05, 0.55), xytext=(0, 10), xycoords=('axes fraction', 'figure fraction'), textcoords='offset points', size=10, ha='left', va='bottom')\n",
    "\n",
    "\n",
    "\n",
    "\n",
    "# Save Figure\n",
    "plt.savefig(os.path.join(\"images\",\"ride_sharing.png\"), bbox_inches = \"tight\")"
   ]
  },
  {
   "cell_type": "code",
   "execution_count": null,
   "metadata": {},
   "outputs": [],
   "source": [
    "# Show plot\n",
    "plt.show()"
   ]
  },
  {
   "cell_type": "markdown",
   "metadata": {},
   "source": [
    "## Total Fares by City Type"
   ]
  },
  {
   "cell_type": "code",
   "execution_count": null,
   "metadata": {},
   "outputs": [],
   "source": [
    "# Calculate Type Percents\n",
    "city_type_data = combined_ride_data.groupby(['type'])\n",
    "fares_by_type = city_type_data [\"fare\"].sum()\n",
    "fares_by_type_percent = fares_by_type / combined_ride_data [\"fare\"].sum() * 100\n",
    "city_type_df=pd.DataFrame(fares_by_type_percent)\n",
    "city_type_df.reset_index(level=0, inplace=True)\n",
    "# Build Pie Chart\n",
    "\n",
    "plt.pie(city_type_df['fare'], labels = city_type_df['type'], colors = [\"gold\", \"skyblue\", \"coral\"], explode = (0, 0, 0.2), autopct=\"%1.1f%%\", shadow=True, startangle=160)\n",
    "\n",
    "plt.title(\"% of Total Fares by City Type\")\n",
    "plt.axis(\"equal\")\n",
    "\n",
    "# Save Figure\n",
    "plt.savefig(os.path.join(\"images\",\"fares_city_type.png\"))\n"
   ]
  },
  {
   "cell_type": "code",
   "execution_count": null,
   "metadata": {},
   "outputs": [],
   "source": [
    "# Show Figure\n",
    "plt.show()"
   ]
  },
  {
   "cell_type": "markdown",
   "metadata": {},
   "source": [
    "## Total Rides by City Type"
   ]
  },
  {
   "cell_type": "code",
   "execution_count": null,
   "metadata": {},
   "outputs": [],
   "source": [
    "# Calculate Ride Percents\n",
    "rides_by_type = city_type_data [\"ride_id\"].count()\n",
    "rides_by_type_percent = rides_by_type / combined_ride_data [\"ride_id\"].count() * 100\n",
    "rides_type_df=pd.DataFrame(rides_by_type_percent)\n",
    "rides_type_df.reset_index(level=0, inplace=True)\n",
    "\n",
    "# Build Pie Chart\n",
    "plt.pie(rides_type_df['ride_id'], labels = rides_type_df['type'], colors = [\"gold\", \"skyblue\", \"coral\"], explode = (0, 0, 0.2), autopct=\"%1.1f%%\", shadow=True, startangle=160)\n",
    "plt.title(\"% of Total Rides by City Type\")\n",
    "plt.axis(\"equal\")\n",
    "\n",
    "# Save Figure\n",
    "plt.savefig(os.path.join(\"images\",\"rides_city_type.png\"))"
   ]
  },
  {
   "cell_type": "code",
   "execution_count": null,
   "metadata": {},
   "outputs": [],
   "source": [
    "# Show Figure\n",
    "plt.show()"
   ]
  },
  {
   "cell_type": "markdown",
   "metadata": {},
   "source": [
    "## Total Drivers by City Type"
   ]
  },
  {
   "cell_type": "code",
   "execution_count": null,
   "metadata": {},
   "outputs": [],
   "source": [
    "# Calculate Driver Percents\n",
    "city_data = combined_ride_data.groupby(['type', 'city'])\n",
    "drivers_by_city = city_data [\"driver_count\"].first()\n",
    "drivers_by_city_grouped = drivers_by_city.groupby (level=0)\n",
    "drivers_by_type = drivers_by_city_grouped.sum()\n",
    "drivers_by_type_percent = drivers_by_type / drivers_by_city.sum() * 100\n",
    "\n",
    "\n",
    "# Build Pie Charts\n",
    "drivers_type_df=pd.DataFrame(drivers_by_type_percent)\n",
    "drivers_type_df.reset_index(level=0, inplace=True)\n",
    "\n",
    "\n",
    "plt.pie(drivers_type_df['driver_count'], labels = drivers_type_df['type'], colors = [\"gold\", \"skyblue\", \"coral\"], explode = (0, 0, 0.2), autopct=\"%1.1f%%\", shadow=True, startangle=160)\n",
    "plt.title(\"% of Total Drivers by City Type\")\n",
    "plt.axis(\"equal\")\n",
    "\n",
    "\n",
    "\n",
    "# Save Figure\n",
    "plt.savefig(os.path.join(\"images\",\"drivers_city_type.png\"))"
   ]
  },
  {
   "cell_type": "code",
   "execution_count": null,
   "metadata": {
    "scrolled": true
   },
   "outputs": [],
   "source": [
    "# Show Figure\n",
    "plt.show()"
   ]
  },
  {
   "cell_type": "code",
   "execution_count": null,
   "metadata": {},
   "outputs": [],
   "source": []
  }
 ],
 "metadata": {
  "anaconda-cloud": {},
  "kernelspec": {
   "display_name": "Python 3",
   "language": "python",
   "name": "python3"
  },
  "language_info": {
   "codemirror_mode": {
    "name": "ipython",
    "version": 3
   },
   "file_extension": ".py",
   "mimetype": "text/x-python",
   "name": "python",
   "nbconvert_exporter": "python",
   "pygments_lexer": "ipython3",
   "version": "3.7.2"
  }
 },
 "nbformat": 4,
 "nbformat_minor": 2
}
